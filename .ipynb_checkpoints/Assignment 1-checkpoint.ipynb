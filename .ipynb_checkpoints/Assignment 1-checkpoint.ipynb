{
 "cells": [
  {
   "cell_type": "markdown",
   "id": "1eae2695",
   "metadata": {},
   "source": [
    "# Question 1"
   ]
  },
  {
   "cell_type": "code",
   "execution_count": 16,
   "id": "266c5be5",
   "metadata": {},
   "outputs": [
    {
     "name": "stdout",
     "output_type": "stream",
     "text": [
      "Data type of 5 is <class 'int'>\n",
      "Data type of 5.0 is <class 'float'>\n",
      "Data type of True is <class 'bool'>\n",
      "Data type of 5 is <class 'str'>\n",
      "Data type of 10 is <class 'int'>\n",
      "Data type of 55 is <class 'str'>\n",
      "Data type of 52 is <class 'str'>\n",
      "Data type of 2.5 is <class 'float'>\n",
      "Data type of 1 is <class 'int'>\n",
      "Data type of {1, 2, 5} is <class 'set'>\n",
      "Data type of False is <class 'bool'>\n",
      "Data type of 3.141592653589793 is <class 'float'>\n"
     ]
    }
   ],
   "source": [
    "from math import pi\n",
    "print(\"Data type of {} is {}\".format(5,type(5)))\n",
    "print(\"Data type of {} is {}\".format(5.0,type(5.0)))\n",
    "print(\"Data type of {} is {}\".format(5>1,type((5>1))))\n",
    "print(\"Data type of {} is {}\".format('5',type('5')))\n",
    "print(\"Data type of {} is {}\".format(5*2,type((5*2))))\n",
    "print(\"Data type of {} is {}\".format('5'*2,type(('2'*2))))\n",
    "print(\"Data type of {} is {}\".format('5'+'2',type(('5'+'2'))))\n",
    "print(\"Data type of {} is {}\".format(5/2,type((5/2))))\n",
    "print(\"Data type of {} is {}\".format(5%2,type((5%2))))\n",
    "print(\"Data type of {} is {}\".format({5,2,1},type({5,2,1})))\n",
    "print(\"Data type of {} is {}\".format(5==3,type((5==3))))\n",
    "print(\"Data type of {} is {}\".format(pi,type(pi)))"
   ]
  },
  {
   "cell_type": "markdown",
   "id": "97e83d27",
   "metadata": {},
   "source": [
    "# Question 2"
   ]
  },
  {
   "cell_type": "code",
   "execution_count": 41,
   "id": "e95d88eb",
   "metadata": {},
   "outputs": [
    {
     "name": "stdout",
     "output_type": "stream",
     "text": [
      "Total letter in Supercalifragilisticexpialidocious are 34\n",
      "Yes, 'Supercalifragilisticexpialidocious' contain 'ice'\n",
      "Longest length of word is Supercalifragilisticexpialidocious and have length 34\n",
      "The first composer is  Bartok\n",
      "The last composer is  Buxtehude\n"
     ]
    }
   ],
   "source": [
    "print(\"Total letter in {} are {}\".format('Supercalifragilisticexpialidocious',len('Supercalifragilisticexpialidocious')))\n",
    "\n",
    "\n",
    "if 'Supercalifragilisticexpialidocious'.find('ice') != -1:\n",
    "    print(\"Yes, 'Supercalifragilisticexpialidocious' contain 'ice'\")\n",
    "else:\n",
    "    print(\"No, 'Supercalifragilisticexpialidocious' contain 'ice'\")\n",
    "    \n",
    "# Find the longest word\n",
    "words = ['Supercalifragilisticexpialidocious','Honorificabilitudinitatibus','Bababadalgharaghtakamminarronnkonn']\n",
    "\n",
    "result = 0\n",
    "for i in range(1,len(words)):\n",
    "    if len(words[result])<len(words[i]):\n",
    "        result = i;\n",
    "print(\"Longest length of word is {} and have length {}\".format(words[result],len(words[result])))\n",
    "\n",
    "composers = ['Berlioz','Borodin','Brian','Bartok','Bellini','Buxtehude','Bernstein']\n",
    "first_composer = 0\n",
    "last_composer = 0\n",
    "for i in range(1,len(composers)):\n",
    "    if composers[first_composer]>composers[i]:\n",
    "        first_composer = i\n",
    "    if composers[last_composer]<composers[i]:\n",
    "        last_composer = i\n",
    "print(\"The first composer is \",composers[first_composer])\n",
    "print(\"The last composer is \",composers[last_composer])\n"
   ]
  },
  {
   "cell_type": "markdown",
   "id": "827e74e5",
   "metadata": {},
   "source": [
    "# Question 4"
   ]
  },
  {
   "cell_type": "code",
   "execution_count": 48,
   "id": "28678025",
   "metadata": {},
   "outputs": [
    {
     "name": "stdout",
     "output_type": "stream",
     "text": [
      "Enter the size of array = 5\n",
      "Input 5 elements in the array\n",
      "element - 0 : 1\n",
      "element - 1 : 2\n",
      "element - 2 : 3\n",
      "element - 3 : 4\n",
      "element - 4 : 5\n",
      "The Even elements are:  [2, 4]\n",
      "The Odd elements are:  [1, 3, 5]\n"
     ]
    }
   ],
   "source": [
    "from array import array\n",
    "size = int(input(\"Enter the size of array = \"))\n",
    "a = array('i',[ 0 for i in range(size)])\n",
    "print(\"Input {} elements in the array\".format(size))\n",
    "even = []\n",
    "odd = []\n",
    "for i in range(0,size):\n",
    "    a[0] = int(input(\"element - {} : \".format(i)))\n",
    "    if a[0]&1 == 0:\n",
    "        even.append(a[0])\n",
    "    else:\n",
    "        odd.append(a[0])\n",
    "print(\"The Even elements are: \",even)\n",
    "print(\"The Odd elements are: \",odd)"
   ]
  },
  {
   "cell_type": "markdown",
   "id": "5fb095e7",
   "metadata": {},
   "source": [
    "# Question 6"
   ]
  },
  {
   "cell_type": "code",
   "execution_count": 50,
   "id": "d09a4dd2",
   "metadata": {},
   "outputs": [
    {
     "data": {
      "text/plain": [
       "'enterway'"
      ]
     },
     "execution_count": 50,
     "metadata": {},
     "output_type": "execute_result"
    }
   ],
   "source": [
    "def pig(name):\n",
    "    if name[0] in ['a','e','i','o','u']:\n",
    "        name = name+'way'\n",
    "    else:\n",
    "        name = name[1:]+name[0]+'ay'\n",
    "    return name\n",
    "pig('enter')"
   ]
  },
  {
   "cell_type": "markdown",
   "id": "b163e9c7",
   "metadata": {},
   "source": [
    "# Question 7"
   ]
  },
  {
   "cell_type": "code",
   "execution_count": 84,
   "id": "cba6e81b",
   "metadata": {},
   "outputs": [
    {
     "name": "stdout",
     "output_type": "stream",
     "text": [
      "{'AB': 13, 'A': 15, 'O': 15, 'B': 1}\n"
     ]
    }
   ],
   "source": [
    "file=open('bloodtype.txt').read()\n",
    "types = file.split()\n",
    "temp = {}\n",
    "total_types = set(types)\n",
    "for i in total_types:\n",
    "    temp[i] = 0\n",
    "for i in types:\n",
    "    temp[i]+=1\n",
    "    \n",
    "print(temp)"
   ]
  },
  {
   "cell_type": "markdown",
   "id": "4263eab7",
   "metadata": {},
   "source": [
    "# Question 8"
   ]
  },
  {
   "cell_type": "code",
   "execution_count": 94,
   "id": "c37139f9",
   "metadata": {},
   "outputs": [
    {
     "name": "stdout",
     "output_type": "stream",
     "text": [
      "1.241401\n"
     ]
    }
   ],
   "source": [
    "def curconv(currency_name, amount):\n",
    "    lines = open('currency.txt').readlines()\n",
    "    for line in lines:\n",
    "        line = line.split()\n",
    "        if line[0]==currency_name:\n",
    "            print(float(line[1])*100)\n",
    "curconv('JPY',100)"
   ]
  },
  {
   "cell_type": "markdown",
   "id": "7d4689fb",
   "metadata": {},
   "source": [
    "# Question 9"
   ]
  },
  {
   "cell_type": "code",
   "execution_count": null,
   "id": "e5ac72fd",
   "metadata": {},
   "outputs": [],
   "source": [
    "try:\n",
    "    result = 6 + 'a'\n",
    "except :\n",
    "    print(\"Error\")"
   ]
  },
  {
   "cell_type": "markdown",
   "id": "60a8af2c",
   "metadata": {},
   "source": [
    "# Question 10"
   ]
  },
  {
   "cell_type": "code",
   "execution_count": 111,
   "id": "a9e22c55",
   "metadata": {},
   "outputs": [
    {
     "data": {
      "text/plain": [
       "[1, 1, 1, 3, 5, 1, 1, 2, 1, 0, 1, 0, 1, 2, 4, 0, 1, 2, 0, 2, 1, 0, 1, 1, 0, 1]"
      ]
     },
     "execution_count": 111,
     "metadata": {},
     "output_type": "execute_result"
    }
   ],
   "source": [
    "letters = 'abcdefghijklmnopqrstuvwxyz'\n",
    "result = [0 for i in range(26)]\n",
    "def frequencies(name):\n",
    "    for i in name:\n",
    "        if letters.find(i.lower()) == -1:\n",
    "            pass\n",
    "        else:\n",
    "            result[letters.find(i)]+=1\n",
    "    return result\n",
    "frequencies('The quick red fox got bored and went home.')"
   ]
  },
  {
   "cell_type": "code",
   "execution_count": 105,
   "id": "d14c6a07",
   "metadata": {},
   "outputs": [
    {
     "data": {
      "text/plain": [
       "2"
      ]
     },
     "execution_count": 105,
     "metadata": {},
     "output_type": "execute_result"
    }
   ],
   "source": []
  },
  {
   "cell_type": "code",
   "execution_count": null,
   "id": "4f0ae472",
   "metadata": {},
   "outputs": [],
   "source": []
  }
 ],
 "metadata": {
  "kernelspec": {
   "display_name": "Python 3",
   "language": "python",
   "name": "python3"
  },
  "language_info": {
   "codemirror_mode": {
    "name": "ipython",
    "version": 3
   },
   "file_extension": ".py",
   "mimetype": "text/x-python",
   "name": "python",
   "nbconvert_exporter": "python",
   "pygments_lexer": "ipython3",
   "version": "3.8.8"
  }
 },
 "nbformat": 4,
 "nbformat_minor": 5
}
