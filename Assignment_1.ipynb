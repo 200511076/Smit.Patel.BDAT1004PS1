{
 "cells": [
  {
   "cell_type": "markdown",
   "id": "1eae2695",
   "metadata": {},
   "source": [
    "# Question 1"
   ]
  },
  {
   "cell_type": "code",
   "execution_count": 16,
   "id": "266c5be5",
   "metadata": {},
   "outputs": [
    {
     "name": "stdout",
     "output_type": "stream",
     "text": [
      "Data type of 5 is <class 'int'>\n",
      "Data type of 5.0 is <class 'float'>\n",
      "Data type of True is <class 'bool'>\n",
      "Data type of 5 is <class 'str'>\n",
      "Data type of 10 is <class 'int'>\n",
      "Data type of 55 is <class 'str'>\n",
      "Data type of 52 is <class 'str'>\n",
      "Data type of 2.5 is <class 'float'>\n",
      "Data type of 1 is <class 'int'>\n",
      "Data type of {1, 2, 5} is <class 'set'>\n",
      "Data type of False is <class 'bool'>\n",
      "Data type of 3.141592653589793 is <class 'float'>\n"
     ]
    }
   ],
   "source": [
    "\"\"\"\n",
    "    Here we are checking the types of all the variables.\n",
    "\"\"\"\n",
    "from math import pi\n",
    "print(\"Data type of {} is {}\".format(5,type(5)))\n",
    "print(\"Data type of {} is {}\".format(5.0,type(5.0)))\n",
    "print(\"Data type of {} is {}\".format(5>1,type((5>1))))\n",
    "print(\"Data type of {} is {}\".format('5',type('5')))\n",
    "print(\"Data type of {} is {}\".format(5*2,type((5*2))))\n",
    "print(\"Data type of {} is {}\".format('5'*2,type(('2'*2))))\n",
    "print(\"Data type of {} is {}\".format('5'+'2',type(('5'+'2'))))\n",
    "print(\"Data type of {} is {}\".format(5/2,type((5/2))))\n",
    "print(\"Data type of {} is {}\".format(5%2,type((5%2))))\n",
    "print(\"Data type of {} is {}\".format({5,2,1},type({5,2,1})))\n",
    "print(\"Data type of {} is {}\".format(5==3,type((5==3))))\n",
    "print(\"Data type of {} is {}\".format(pi,type(pi)))"
   ]
  },
  {
   "cell_type": "markdown",
   "id": "97e83d27",
   "metadata": {},
   "source": [
    "# Question 2 (a)"
   ]
  },
  {
   "cell_type": "code",
   "execution_count": 19,
   "id": "e95d88eb",
   "metadata": {},
   "outputs": [
    {
     "name": "stdout",
     "output_type": "stream",
     "text": [
      "Total letter in Supercalifragilisticexpialidocious are 34\n",
      "Yes, 'Supercalifragilisticexpialidocious' contain 'ice'\n"
     ]
    }
   ],
   "source": [
    "\"\"\"\n",
    "    Find the letters in the string and check the word is in the string or not\n",
    "\"\"\"\n",
    "\n",
    "print(\"Total letter in {} are {}\".format('Supercalifragilisticexpialidocious',len('Supercalifragilisticexpialidocious')))\n",
    "\n",
    "\n",
    "if 'Supercalifragilisticexpialidocious'.find('ice') != -1:\n",
    "    print(\"Yes, 'Supercalifragilisticexpialidocious' contain 'ice'\")\n",
    "else:\n",
    "    print(\"No, 'Supercalifragilisticexpialidocious' contain 'ice'\")\n",
    "    \n",
    "\n"
   ]
  },
  {
   "cell_type": "markdown",
   "id": "e97a5376",
   "metadata": {},
   "source": [
    "# Question 2 (b)"
   ]
  },
  {
   "cell_type": "code",
   "execution_count": 20,
   "id": "fbe7c5c4",
   "metadata": {},
   "outputs": [
    {
     "name": "stdout",
     "output_type": "stream",
     "text": [
      "Longest length of word is Supercalifragilisticexpialidocious and have length 34\n",
      "Longest length of word is Bababadalgharaghtakamminarronnkonn and have length 34\n"
     ]
    }
   ],
   "source": [
    "\n",
    "\n",
    "# Find the longest word\n",
    "words = ['Supercalifragilisticexpialidocious','Honorificabilitudinitatibus','Bababadalgharaghtakamminarronnkonn']\n",
    "\n",
    "max = 0\n",
    "for i in range(1,len(words)):\n",
    "    if len(words[max])<len(words[i]):\n",
    "        max = i;\n",
    "\n",
    "print(\"Longest length of word is {} and have length {}\".format(words[max],len(words[max])))\n",
    "\n",
    "for i in range(1,len(words)):\n",
    "    if len(words[max])<=len(words[i]) and (words[i] is not words[max]):\n",
    "        print(\"Longest length of word is {} and have length {}\".format(words[secondmax],len(words[secondmax])))\n",
    "    \n",
    "\n"
   ]
  },
  {
   "cell_type": "markdown",
   "id": "0f4ddc9a",
   "metadata": {},
   "source": [
    "# Question 2 (c)"
   ]
  },
  {
   "cell_type": "code",
   "execution_count": 3,
   "id": "48865efa",
   "metadata": {},
   "outputs": [
    {
     "name": "stdout",
     "output_type": "stream",
     "text": [
      "The first composer is  Bartok\n",
      "The last composer is  Buxtehude\n"
     ]
    }
   ],
   "source": [
    "\"\"\"\n",
    "    Finding the first and last composer in the string\n",
    "\"\"\"\n",
    "\n",
    "composers = ['Berlioz','Borodin','Brian','Bartok','Bellini','Buxtehude','Bernstein']\n",
    "first_composer = 0\n",
    "last_composer = 0\n",
    "for i in range(1,len(composers)):\n",
    "    if composers[first_composer]>composers[i]:\n",
    "        first_composer = i\n",
    "    if composers[last_composer]<composers[i]:\n",
    "        last_composer = i\n",
    "print(\"The first composer is \",composers[first_composer])\n",
    "print(\"The last composer is \",composers[last_composer])\n"
   ]
  },
  {
   "cell_type": "markdown",
   "id": "ef311bfe",
   "metadata": {},
   "source": [
    "# Question 3"
   ]
  },
  {
   "cell_type": "code",
   "execution_count": 21,
   "id": "cf5764f3",
   "metadata": {},
   "outputs": [
    {
     "data": {
      "text/plain": [
       "1.7320508075688772"
      ]
     },
     "execution_count": 21,
     "metadata": {},
     "output_type": "execute_result"
    }
   ],
   "source": [
    "import math\n",
    "\n",
    "def triangleArea(a,b,c):\n",
    "    s = (a + b + c) / 2\n",
    "    formula = (s * (s-a) * (s-b) * (s-c))\n",
    "    area_result = math.sqrt(formula)\n",
    "    return area_result\n",
    "\n",
    "triangleArea(2,2,2)"
   ]
  },
  {
   "cell_type": "markdown",
   "id": "827e74e5",
   "metadata": {},
   "source": [
    "# Question 4"
   ]
  },
  {
   "cell_type": "code",
   "execution_count": 48,
   "id": "28678025",
   "metadata": {},
   "outputs": [
    {
     "name": "stdout",
     "output_type": "stream",
     "text": [
      "Enter the size of array = 5\n",
      "Input 5 elements in the array\n",
      "element - 0 : 1\n",
      "element - 1 : 2\n",
      "element - 2 : 3\n",
      "element - 3 : 4\n",
      "element - 4 : 5\n",
      "The Even elements are:  [2, 4]\n",
      "The Odd elements are:  [1, 3, 5]\n"
     ]
    }
   ],
   "source": [
    "\"\"\"\n",
    "    Arrange odd and even numbers in the 2 seperate list\n",
    "\"\"\"\n",
    "from array import array\n",
    "size = int(input(\"Enter the size of array = \"))\n",
    "a = array('i',[ 0 for i in range(size)])\n",
    "print(\"Input {} elements in the array\".format(size))\n",
    "even = []\n",
    "odd = []\n",
    "for i in range(0,size):\n",
    "    a[0] = int(input(\"element - {} : \".format(i)))\n",
    "    if a[0]&1 == 0:\n",
    "        even.append(a[0])\n",
    "    else:\n",
    "        odd.append(a[0])\n",
    "print(\"The Even elements are: \",even)\n",
    "print(\"The Odd elements are: \",odd)"
   ]
  },
  {
   "cell_type": "markdown",
   "id": "a58fbbc1",
   "metadata": {},
   "source": [
    "# Question 5"
   ]
  },
  {
   "cell_type": "code",
   "execution_count": 13,
   "id": "5bc04d6e",
   "metadata": {},
   "outputs": [
    {
     "name": "stdout",
     "output_type": "stream",
     "text": [
      "Both the points are not lies in the rectangle.\n"
     ]
    }
   ],
   "source": [
    "def inside(x,y,x1,y1,x2,y2):\n",
    "    if (x1<=x<=x2) and (y1<=y<=y2):\n",
    "        return True\n",
    "    else:\n",
    "        return False\n",
    "inside(-1,-1,0,0,2,3)\n",
    "\n",
    "first_inside = inside(1,1,0.3,0.5,1.1,0.7)\n",
    "second_inside = inside(1,1,0.5,0.2,1.1,2)\n",
    "if first_inside and second_inside:\n",
    "    print(\"Both the points are lies in the rectangle.\")\n",
    "else:\n",
    "    print(\"Both the points are not lies in the rectangle.\")"
   ]
  },
  {
   "cell_type": "markdown",
   "id": "5fb095e7",
   "metadata": {},
   "source": [
    "# Question 6"
   ]
  },
  {
   "cell_type": "code",
   "execution_count": 22,
   "id": "d09a4dd2",
   "metadata": {},
   "outputs": [
    {
     "data": {
      "text/plain": [
       "'enterway'"
      ]
     },
     "execution_count": 22,
     "metadata": {},
     "output_type": "execute_result"
    }
   ],
   "source": [
    "def pig(name):\n",
    "    \"\"\"\n",
    "        This function check first letter of the string and if it is vowel then add way in the end else remove the first character and add ay in the last.\n",
    "    \"\"\"\n",
    "    if name[0] in ['a','e','i','o','u']:\n",
    "        name = name+'way'\n",
    "    else:\n",
    "        name = name[1:]+name[0]+'ay'\n",
    "    return name\n",
    "pig('enter')"
   ]
  },
  {
   "cell_type": "markdown",
   "id": "b163e9c7",
   "metadata": {},
   "source": [
    "# Question 7"
   ]
  },
  {
   "cell_type": "code",
   "execution_count": 14,
   "id": "cba6e81b",
   "metadata": {},
   "outputs": [
    {
     "name": "stdout",
     "output_type": "stream",
     "text": [
      "There are 15 patients of blood type A.\n",
      "There are 1 patients of blood type B.\n",
      "There are 15 patients of blood type O.\n",
      "There are 13 patients of blood type AB.\n",
      "There are NO patients of blood type OO\n"
     ]
    }
   ],
   "source": [
    "\"\"\"\n",
    "    Count the boold types from the file.\n",
    "\"\"\"\n",
    "file=open('bloodtype.txt').read()\n",
    "types = file.split()\n",
    "temp = {}\n",
    "total_types = set(types)\n",
    "for i in total_types:\n",
    "    temp[i] = 0\n",
    "for i in types:\n",
    "    temp[i]+=1\n",
    "    \n",
    "blood_types = ['A','B','AB','O','OO']\n",
    "for i,j in temp.items():\n",
    "    print(\"There are {} patients of blood type {}.\".format(j,i))\n",
    "    blood_types.remove(i)\n",
    "for i in blood_types:\n",
    "    print(\"There are NO patients of blood type {}\".format(i))"
   ]
  },
  {
   "cell_type": "markdown",
   "id": "4263eab7",
   "metadata": {},
   "source": [
    "# Question 8"
   ]
  },
  {
   "cell_type": "code",
   "execution_count": 94,
   "id": "c37139f9",
   "metadata": {},
   "outputs": [
    {
     "name": "stdout",
     "output_type": "stream",
     "text": [
      "1.241401\n"
     ]
    }
   ],
   "source": [
    "\"\"\" \n",
    "    The below function is used to convert the currency rate using the country name\n",
    "\"\"\"\n",
    "def curconv(currency_name, amount):\n",
    "    lines = open('currency.txt').readlines()\n",
    "    for line in lines:\n",
    "        line = line.split()\n",
    "        if line[0]==currency_name:\n",
    "            print(float(line[1])*100)\n",
    "curconv('JPY',100)"
   ]
  },
  {
   "cell_type": "markdown",
   "id": "7d4689fb",
   "metadata": {},
   "source": [
    "# Question 9"
   ]
  },
  {
   "cell_type": "code",
   "execution_count": 18,
   "id": "e5ac72fd",
   "metadata": {},
   "outputs": [
    {
     "name": "stdout",
     "output_type": "stream",
     "text": [
      "You can not add integer with the string object.\n",
      "\n",
      "You are trying to access out of index value in the list.\n",
      "\n",
      "Entering wrong value in function argument.\n",
      "\n",
      "You are trying to access that value which is not declare.\n",
      "\n",
      "You are trying to access undeclared file.\n",
      "\n"
     ]
    }
   ],
   "source": [
    "\"\"\"\n",
    "    Find and handling the exceptions of different situations. \n",
    "\"\"\"\n",
    "\n",
    "import math\n",
    "try:\n",
    "    a = 6 + 'a'\n",
    "except TypeError:\n",
    "    print(\"You can not add integer with the string object.\",end=\"\\n\\n\")\n",
    "    \n",
    "try:\n",
    "    l = list(range(10))\n",
    "    print(l[12])\n",
    "except IndexError:\n",
    "    print(\"You are trying to access out of index value in the list.\",end=\"\\n\\n\")\n",
    "    \n",
    "try:\n",
    "    print(math.sqrt(-1.0))\n",
    "except ValueError:\n",
    "    print(\"Entering wrong value in function argument.\",end=\"\\n\\n\")\n",
    "    \n",
    "try:\n",
    "    a = 10\n",
    "    print(b)\n",
    "except NameError:\n",
    "    print(\"You are trying to access that value which is not declare.\",end=\"\\n\\n\")\n",
    "    \n",
    "try:\n",
    "    file = open(\"newFile.txt\")\n",
    "except IOError:\n",
    "    print(\"You are trying to access undeclared file.\",end=\"\\n\\n\")"
   ]
  },
  {
   "cell_type": "markdown",
   "id": "60a8af2c",
   "metadata": {},
   "source": [
    "# Question 10"
   ]
  },
  {
   "cell_type": "code",
   "execution_count": 7,
   "id": "a9e22c55",
   "metadata": {},
   "outputs": [
    {
     "data": {
      "text/plain": [
       "[1, 1, 1, 3, 5, 1, 1, 2, 1, 0, 1, 0, 1, 2, 4, 0, 1, 2, 0, 2, 1, 0, 1, 1, 0, 0]"
      ]
     },
     "execution_count": 7,
     "metadata": {},
     "output_type": "execute_result"
    }
   ],
   "source": [
    "\"\"\"\n",
    "    Count the frequency of every character in the string and provide the result in the list. \n",
    "\"\"\"\n",
    "letters = 'abcdefghijklmnopqrstuvwxyz'\n",
    "result = [0 for i in range(26)]\n",
    "def frequencies(name):\n",
    "    for i in name:\n",
    "        if letters.find(i) == -1:\n",
    "            pass\n",
    "        else:\n",
    "            result[letters.find(i)]+=1\n",
    "    return result\n",
    "frequencies('The quick red fox got bored and went home.')"
   ]
  },
  {
   "cell_type": "code",
   "execution_count": null,
   "id": "d14c6a07",
   "metadata": {},
   "outputs": [],
   "source": []
  },
  {
   "cell_type": "code",
   "execution_count": null,
   "id": "4f0ae472",
   "metadata": {},
   "outputs": [],
   "source": []
  }
 ],
 "metadata": {
  "kernelspec": {
   "display_name": "Python 3",
   "language": "python",
   "name": "python3"
  },
  "language_info": {
   "codemirror_mode": {
    "name": "ipython",
    "version": 3
   },
   "file_extension": ".py",
   "mimetype": "text/x-python",
   "name": "python",
   "nbconvert_exporter": "python",
   "pygments_lexer": "ipython3",
   "version": "3.8.8"
  }
 },
 "nbformat": 4,
 "nbformat_minor": 5
}
